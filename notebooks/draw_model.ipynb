{
 "cells": [
  {
   "cell_type": "code",
   "execution_count": 22,
   "metadata": {},
   "outputs": [],
   "source": [
    "%matplotlib notebook\n",
    "\n",
    "import sys\n",
    "import numpy as np\n",
    "import matplotlib.pyplot as plt\n",
    "np.set_printoptions(threshold=sys.maxsize)\n"
   ]
  },
  {
   "cell_type": "code",
   "execution_count": 2,
   "metadata": {},
   "outputs": [],
   "source": [
    "epoch = \"65\"\n",
    "image_dim = 28"
   ]
  },
  {
   "cell_type": "code",
   "execution_count": 3,
   "metadata": {
    "scrolled": true
   },
   "outputs": [
    {
     "ename": "FileNotFoundError",
     "evalue": "[Errno 2] No such file or directory: './../drawing/canvasses_epoch65.npy'",
     "output_type": "error",
     "traceback": [
      "\u001b[0;31m---------------------------------------------------------------------------\u001b[0m",
      "\u001b[0;31mFileNotFoundError\u001b[0m                         Traceback (most recent call last)",
      "\u001b[0;32m<ipython-input-3-6985bda8e5f9>\u001b[0m in \u001b[0;36m<module>\u001b[0;34m\u001b[0m\n\u001b[1;32m      4\u001b[0m     \u001b[0;32mreturn\u001b[0m \u001b[0;36m1\u001b[0m\u001b[0;34m/\u001b[0m\u001b[0;34m(\u001b[0m\u001b[0;36m1\u001b[0m \u001b[0;34m+\u001b[0m\u001b[0mnp\u001b[0m\u001b[0;34m.\u001b[0m\u001b[0mexp\u001b[0m\u001b[0;34m(\u001b[0m\u001b[0;34m-\u001b[0m\u001b[0mx\u001b[0m\u001b[0;34m)\u001b[0m\u001b[0;34m)\u001b[0m\u001b[0;34m\u001b[0m\u001b[0m\n\u001b[1;32m      5\u001b[0m \u001b[0;34m\u001b[0m\u001b[0m\n\u001b[0;32m----> 6\u001b[0;31m \u001b[0mdrawings\u001b[0m \u001b[0;34m=\u001b[0m \u001b[0mnp\u001b[0m\u001b[0;34m.\u001b[0m\u001b[0mload\u001b[0m\u001b[0;34m(\u001b[0m\u001b[0md_fn\u001b[0m\u001b[0;34m)\u001b[0m\u001b[0;34m\u001b[0m\u001b[0m\n\u001b[0m\u001b[1;32m      7\u001b[0m \u001b[0;31m#drawings[-1, :, :] = sigmoid(drawings[-1, :, :])\u001b[0m\u001b[0;34m\u001b[0m\u001b[0;34m\u001b[0m\u001b[0m\n\u001b[1;32m      8\u001b[0m \u001b[0;31m#drawings = sigmoid(drawings)\u001b[0m\u001b[0;34m\u001b[0m\u001b[0;34m\u001b[0m\u001b[0m\n",
      "\u001b[0;32m/usr/local/lib/python3.5/dist-packages/numpy/lib/npyio.py\u001b[0m in \u001b[0;36mload\u001b[0;34m(file, mmap_mode, allow_pickle, fix_imports, encoding)\u001b[0m\n\u001b[1;32m    370\u001b[0m     \u001b[0mown_fid\u001b[0m \u001b[0;34m=\u001b[0m \u001b[0;32mFalse\u001b[0m\u001b[0;34m\u001b[0m\u001b[0m\n\u001b[1;32m    371\u001b[0m     \u001b[0;32mif\u001b[0m \u001b[0misinstance\u001b[0m\u001b[0;34m(\u001b[0m\u001b[0mfile\u001b[0m\u001b[0;34m,\u001b[0m \u001b[0mbasestring\u001b[0m\u001b[0;34m)\u001b[0m\u001b[0;34m:\u001b[0m\u001b[0;34m\u001b[0m\u001b[0m\n\u001b[0;32m--> 372\u001b[0;31m         \u001b[0mfid\u001b[0m \u001b[0;34m=\u001b[0m \u001b[0mopen\u001b[0m\u001b[0;34m(\u001b[0m\u001b[0mfile\u001b[0m\u001b[0;34m,\u001b[0m \u001b[0;34m\"rb\"\u001b[0m\u001b[0;34m)\u001b[0m\u001b[0;34m\u001b[0m\u001b[0m\n\u001b[0m\u001b[1;32m    373\u001b[0m         \u001b[0mown_fid\u001b[0m \u001b[0;34m=\u001b[0m \u001b[0;32mTrue\u001b[0m\u001b[0;34m\u001b[0m\u001b[0m\n\u001b[1;32m    374\u001b[0m     \u001b[0;32melif\u001b[0m \u001b[0mis_pathlib_path\u001b[0m\u001b[0;34m(\u001b[0m\u001b[0mfile\u001b[0m\u001b[0;34m)\u001b[0m\u001b[0;34m:\u001b[0m\u001b[0;34m\u001b[0m\u001b[0m\n",
      "\u001b[0;31mFileNotFoundError\u001b[0m: [Errno 2] No such file or directory: './../drawing/canvasses_epoch65.npy'"
     ]
    }
   ],
   "source": [
    "d_fn = \"./../drawing/canvasses_epoch\"+epoch+\".npy\"\n",
    "\n",
    "def sigmoid(x):\n",
    "    return 1/(1 +np.exp(-x))\n",
    "\n",
    "drawings = np.load(d_fn)\n",
    "#drawings[-1, :, :] = sigmoid(drawings[-1, :, :])\n",
    "#drawings = sigmoid(drawings)"
   ]
  },
  {
   "cell_type": "code",
   "execution_count": null,
   "metadata": {},
   "outputs": [],
   "source": [
    "drawings.shape"
   ]
  },
  {
   "cell_type": "code",
   "execution_count": null,
   "metadata": {},
   "outputs": [],
   "source": [
    "drawings[-1, :, :].max()"
   ]
  },
  {
   "cell_type": "code",
   "execution_count": null,
   "metadata": {
    "scrolled": false
   },
   "outputs": [],
   "source": [
    "T = drawings.shape[0]\n",
    "n_plots = 2\n",
    "which = 9\n",
    "ref = 2\n",
    "\n",
    "vmax = np.max(drawings[0]) #np.max(drawings[T-1][which])\n",
    "vmin = np.min(drawings[0]) #np.min(drawings[T-1][which])\n",
    "\n",
    "fig, ax = plt.subplots(nrows=T, ncols=n_plots, figsize=(10, 10) )\n",
    "\n",
    "for t in range(T):\n",
    "    if T == 1:\n",
    "        ao = ax\n",
    "    else:\n",
    "        ao = ax[t]\n",
    "    w = which\n",
    "    normal = drawings[t][w].reshape((image_dim, image_dim)) #- drawings[0][w].reshape((128, 128))\n",
    "    reference = drawings[t][ref].reshape((image_dim, image_dim))\n",
    "\n",
    "    if not t==(T-1):\n",
    "        img_1 = ao[1].imshow(reference, vmin=vmin, vmax=vmax, cmap=\"Greys_r\")\n",
    "        img_0 = ao[0].imshow(normal, vmin=vmin, vmax=vmax, cmap=\"Greys_r\")\n",
    "    else:\n",
    "        img_1 = ao[1].imshow(reference, cmap=\"Greys_r\")\n",
    "        img_0 = ao[0].imshow(normal, cmap=\"Greys_r\")\n",
    "        \n",
    "    \n",
    "    #print(t, np.max(normal), np.min(normal), np.average(normal), np.std(normal))\n"
   ]
  },
  {
   "cell_type": "code",
   "execution_count": null,
   "metadata": {},
   "outputs": [],
   "source": [
    "batch_size = drawings.shape[1]\n",
    "\n",
    "finished = drawings[-1:,:,].reshape((batch_size, image_dim,  image_dim))\n",
    "#finished[finished > 255] = 255 \n",
    "reference = np.load(\"../drawing/references_epoch\"+epoch+\".npy\").reshape((batch_size, image_dim, image_dim))\n",
    "#reference[reference < 0.2] = 0"
   ]
  },
  {
   "cell_type": "code",
   "execution_count": null,
   "metadata": {},
   "outputs": [],
   "source": [
    "print(reference.max(), reference.min())\n",
    "print(finished.max(), finished.min())"
   ]
  },
  {
   "cell_type": "code",
   "execution_count": null,
   "metadata": {
    "scrolled": false
   },
   "outputs": [],
   "source": [
    "fig, axs = plt.subplots(5, 2, figsize=(10, 20))\n",
    "\n",
    "i = 1\n",
    "which_to_show = [4+i, 8+i, 10+i, 0+i, 12+i]\n",
    "\n",
    "for w, ax in zip(which_to_show, axs):\n",
    "    ax[0].imshow(finished[w], vmin=0, vmax=255, cmap=\"Greys_r\")\n",
    "    ax[1].imshow(reference[w], vmin=0, vmax=255, cmap=\"Greys_r\")"
   ]
  },
  {
   "cell_type": "code",
   "execution_count": null,
   "metadata": {},
   "outputs": [],
   "source": [
    "from sklearn.cluster import MiniBatchKMeans\n",
    "\n",
    "x = np.load(\"../data/clean/images/run_0130_label_False.npy\")[:4000]\n",
    "x_test = np.load(\"../data/clean/images/train.npy\")\n",
    "y_test = np.load(\"../data/clean/targets/train_targets.npy\")\n",
    "\n",
    "x = x.reshape((x.shape[0], -1))\n",
    "x_test = x_test.reshape((x_test.shape[0], -1))\n",
    "\n",
    "model = MiniBatchKMeans(n_clusters=3)\n",
    "model.fit(x)"
   ]
  },
  {
   "cell_type": "code",
   "execution_count": null,
   "metadata": {},
   "outputs": [],
   "source": [
    "from sklearn.metrics import adjusted_rand_score, normalized_mutual_info_score\n",
    "\n",
    "pred = model.predict(x_test)\n",
    "print(adjusted_rand_score(y_test, pred))\n",
    "print(normalized_mutual_info_score(y_test, pred))"
   ]
  },
  {
   "cell_type": "code",
   "execution_count": null,
   "metadata": {},
   "outputs": [],
   "source": [
    "fig, ax = plt.subplots(ncols=2)\n",
    "to_filter = reference[20].reshape((128, 128))\n",
    "ax[0].imshow(to_filter, cmap=\"Greys_r\")\n",
    "\n",
    "filtered = to_filter.copy()\n",
    "filtered[filtered < 0.3] = 0\n",
    "ax[1].imshow(filtered, cmap=\"Greys_r\")"
   ]
  }
 ],
 "metadata": {
  "kernelspec": {
   "display_name": "Python 3",
   "language": "python",
   "name": "python3"
  },
  "language_info": {
   "codemirror_mode": {
    "name": "ipython",
    "version": 3
   },
   "file_extension": ".py",
   "mimetype": "text/x-python",
   "name": "python",
   "nbconvert_exporter": "python",
   "pygments_lexer": "ipython3",
   "version": "3.5.2"
  }
 },
 "nbformat": 4,
 "nbformat_minor": 2
}
