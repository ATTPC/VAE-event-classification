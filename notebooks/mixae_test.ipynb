{
 "cells": [
  {
   "cell_type": "code",
   "execution_count": 1,
   "metadata": {},
   "outputs": [
    {
     "name": "stderr",
     "output_type": "stream",
     "text": [
      "Using TensorFlow backend.\n"
     ]
    }
   ],
   "source": [
    "import sys\n",
    "sys.path.append(\"../src/\")\n",
    "from mixae import mixae_model, entropy_callback, probabilities_log"
   ]
  },
  {
   "cell_type": "code",
   "execution_count": 2,
   "metadata": {},
   "outputs": [],
   "source": [
    "import tensorflow as tf\n",
    "import numpy as np\n",
    "import matplotlib.pyplot as plt\n",
    "from sklearn.preprocessing import OneHotEncoder\n",
    "from sklearn.metrics import adjusted_rand_score\n",
    "import os\n",
    "os.environ[\"CUDA_VISIBLE_DEVICES\"] = \"1\"\n",
    "%matplotlib inline"
   ]
  },
  {
   "cell_type": "code",
   "execution_count": 3,
   "metadata": {},
   "outputs": [
    {
     "name": "stderr",
     "output_type": "stream",
     "text": [
      "/opt/conda/envs/python3.6/lib/python3.6/site-packages/sklearn/preprocessing/_encoders.py:368: FutureWarning: The handling of integer data will change in version 0.22. Currently, the categories are determined based on the range [0, max(values)], while in the future they will be determined based on the unique values.\n",
      "If you want the future behaviour and silence this warning, you can specify \"categories='auto'\".\n",
      "In case you used a LabelEncoder before this OneHotEncoder to convert the categories to integers, then you can now use the OneHotEncoder directly.\n",
      "  warnings.warn(msg, FutureWarning)\n"
     ]
    }
   ],
   "source": [
    "(x_full, y_tr), (x_labeled, y_lab) = tf.keras.datasets.mnist.load_data()\n",
    "x_full = (np.expand_dims(x_full, -1)/255)\n",
    "x_labeled = np.expand_dims(x_labeled, -1)/255\n",
    "y_lab_onehot = OneHotEncoder().fit_transform(y_lab.reshape(-1, 1))\n",
    "n_samples = x_full.shape[0]"
   ]
  },
  {
   "cell_type": "code",
   "execution_count": 4,
   "metadata": {},
   "outputs": [],
   "source": [
    "n_layers = 3\n",
    "latent_dim = 8\n",
    "kernel_architecture = [3,]*n_layers\n",
    "filter_architecture = [32, 16, 8]\n",
    "strides_architecture = [2, 2, 2]\n",
    "pooling_architecture = [0,]*n_layers\n",
    "\n",
    "mode_config = {\n",
    "    \"simulated_mode\":False, #deprecated, to be removed\n",
    "    \"restore_mode\":False, #indicates whether to load weights \n",
    "    \"include_KL\":False, #whether to compute the KL loss over the latent space\n",
    "    \"include_MMD\":False, #same as above, but MMD \n",
    "    \"include_KM\":False, #same as above, but K-means. See thesis for a more in-depth treatment of these\n",
    "    \"batchnorm\":False, #whether to include batch-normalization between layers\n",
    "    \"use_vgg\":False, #whether the input data is from a pre-trained model \n",
    "    \"use_dd\":False, #whether to use the dueling-decoder objective \n",
    "}\n",
    "\n",
    "reg_strength = 1e-6\n",
    "ae_args = [\n",
    "    [\n",
    "        n_layers,\n",
    "        filter_architecture,\n",
    "        kernel_architecture,\n",
    "        strides_architecture,\n",
    "        pooling_architecture,\n",
    "        latent_dim,\n",
    "        x_full.shape,\n",
    "    ],\n",
    "    {\n",
    "        \"mode_config\":mode_config\n",
    "    },\n",
    "    [],\n",
    "    {\n",
    "        \"kernel_reg_strength\":reg_strength,\n",
    "        \"kernel_reg\": tf.keras.regularizers.l2,\n",
    "        \"output_activation\": \"sigmoid\"\n",
    "    }\n",
    "]\n",
    "\n",
    "x_full_flat = x_full.reshape(n_samples, -1)\n",
    "x_lab_flat = x_labeled.reshape(x_labeled.shape[0], -1)\n",
    "print(x_full_flat.max(), x_full_flat.min())"
   ]
  },
  {
   "cell_type": "code",
   "execution_count": 5,
   "metadata": {
    "scrolled": false
   },
   "outputs": [
    {
     "name": "stdout",
     "output_type": "stream",
     "text": [
      "DECONV SHAPE 3\n",
      "DECONV SHAPE 3\n",
      "DECONV SHAPE 3\n",
      "DECONV SHAPE 3\n",
      "DECONV SHAPE 3\n",
      "DECONV SHAPE 3\n",
      "DECONV SHAPE 3\n",
      "DECONV SHAPE 3\n",
      "DECONV SHAPE 3\n",
      "DECONV SHAPE 3\n",
      "target (?, ?, ?)\n",
      "recons (?, ?, ?)\n",
      "mse_pre_sum (10, ?, 784)\n",
      "mse reduced (10, ?)\n",
      "probs  (?, 10)\n",
      "weighted (?, 10)\n",
      "clf ent\n",
      "batch_ent\n",
      "target (?, ?, ?)\n",
      "recons (?, ?, ?)\n",
      "mse_pre_sum (10, ?, 784)\n",
      "mse reduced (10, ?)\n",
      "probs  (?, 10)\n",
      "weighted (?, 10)\n"
     ]
    }
   ],
   "source": [
    "mix_obj = mixae_model(ae_args)\n",
    "m, mp, clst, _ = mix_obj.compile(10)\n",
    "\n",
    "pl = probabilities_log(clst, x_lab_flat)\n",
    "earlystopping = tf.keras.callbacks.EarlyStopping(\n",
    "    \"batch_ent_loss\",\n",
    "    min_delta=0,\n",
    "    patience=2,\n",
    "    #restore_best_weights=True,\n",
    "    baseline=0.1\n",
    ")\n",
    "earlystopping_pre = tf.keras.callbacks.EarlyStopping(\"val_loss\", min_delta=1e-2, patience=2)\n"
   ]
  },
  {
   "cell_type": "code",
   "execution_count": 7,
   "metadata": {},
   "outputs": [],
   "source": [
    "def update_wrapper(self, func):\n",
    "    def func_wrapper(epoch, logs={}):\n",
    "        print()\n",
    "        print(\"old min delta\", self.min_delta)\n",
    "        self.min_delta *= (0.96*2/3)**epoch\n",
    "        print(\"New min_delta\", self.min_delta)\n",
    "        return func(epoch, logs)\n",
    "    return func_wrapper\n",
    "earlystopping.update_wrapper = update_wrapper\n",
    "earlystopping.on_epoch_end = earlystopping.update_wrapper(earlystopping, earlystopping.on_epoch_end)"
   ]
  },
  {
   "cell_type": "code",
   "execution_count": 9,
   "metadata": {},
   "outputs": [
    {
     "data": {
      "text/plain": [
       "'\\nclf_hist = clst.fit(\\n    x_lab_flat[:1000],\\n    [y_lab_onehot[:1000]],\\n    epochs=100,\\n    batch_size=100,\\n    callbacks=[earlystopping_pre],\\n    validation_split=0.2,\\n)\\n\\npretrain_hist = mp.fit(\\n    x_lab_flat[:1000],\\n    [np.expand_dims(x_lab_flat[:1000], 1), y_lab_onehot[:1000]],\\n    epochs=1000,\\n    batch_size=100,\\n    callbacks=[earlystopping_pre,],\\n    validation_split=0.2,\\n)\\n'"
      ]
     },
     "execution_count": 9,
     "metadata": {},
     "output_type": "execute_result"
    }
   ],
   "source": [
    "\"\"\"\n",
    "clf_hist = clst.fit(\n",
    "    x_lab_flat[:1000],\n",
    "    [y_lab_onehot[:1000]],\n",
    "    epochs=100,\n",
    "    batch_size=100,\n",
    "    callbacks=[earlystopping_pre],\n",
    "    validation_split=0.2,\n",
    ")\n",
    "\n",
    "pretrain_hist = mp.fit(\n",
    "    x_lab_flat[:1000],\n",
    "    [np.expand_dims(x_lab_flat[:1000], 1), y_lab_onehot[:1000]],\n",
    "    epochs=1000,\n",
    "    batch_size=100,\n",
    "    callbacks=[earlystopping_pre,],\n",
    "    validation_split=0.2,\n",
    ")\n",
    "\"\"\""
   ]
  },
  {
   "cell_type": "code",
   "execution_count": 10,
   "metadata": {},
   "outputs": [
    {
     "data": {
      "text/plain": [
       "'\\nfig, axs = plt.subplots(ncols=4, nrows=2, figsize=(17, 12))\\nhistories = [clf_hist, pretrain_hist]\\nmodels = [clst, mp]\\nfor i in range(2):\\n    model = models[i]\\n    hist = histories[i]\\n    \\n    perf_labels = model.metrics_names\\n    for j, label in enumerate(perf_labels):\\n        axs[i][j].plot(hist.history[label], label=label)\\n        axs[i][j].legend(loc=\"best\")\\nplt.tight_layout()\\n'"
      ]
     },
     "execution_count": 10,
     "metadata": {},
     "output_type": "execute_result"
    }
   ],
   "source": [
    "\"\"\"\n",
    "fig, axs = plt.subplots(ncols=4, nrows=2, figsize=(17, 12))\n",
    "histories = [clf_hist, pretrain_hist]\n",
    "models = [clst, mp]\n",
    "for i in range(2):\n",
    "    model = models[i]\n",
    "    hist = histories[i]\n",
    "    \n",
    "    perf_labels = model.metrics_names\n",
    "    for j, label in enumerate(perf_labels):\n",
    "        axs[i][j].plot(hist.history[label], label=label)\n",
    "        axs[i][j].legend(loc=\"best\")\n",
    "plt.tight_layout()\n",
    "\"\"\""
   ]
  },
  {
   "cell_type": "code",
   "execution_count": 11,
   "metadata": {},
   "outputs": [
    {
     "name": "stdout",
     "output_type": "stream",
     "text": [
      "[0.10157951 0.0996548  0.10105261 0.10070965 0.10099394 0.0998733\n",
      " 0.09829685 0.09874884 0.09751231 0.10157819]\n",
      "0\n"
     ]
    },
    {
     "data": {
      "image/png": "[encoded data removed]",
      "text/plain": [
       "<Figure size 1080x288 with 11 Axes>"
      ]
     },
     "metadata": {
      "needs_background": "light"
     },
     "output_type": "display_data"
    }
   ],
   "source": [
    "pred = mp.predict_on_batch(x_lab_flat[0:10])\n",
    "w = 0\n",
    "which_pred = pred[1][w].argmax()\n",
    "fig, ax = plt.subplots(ncols=11, figsize=(15, 4))\n",
    "ax[0].imshow(x_lab_flat[w].reshape(28, 28))\n",
    "for i in range(10):  \n",
    "    ax[i+1].imshow(pred[0][w][i].reshape((28, 28)), vmax=1, vmin=0)\n",
    "print(pred[1][w])\n",
    "print(which_pred)"
   ]
  },
  {
   "cell_type": "code",
   "execution_count": 12,
   "metadata": {},
   "outputs": [
    {
     "name": "stdout",
     "output_type": "stream",
     "text": [
      "Epoch 1/30\n",
      "60000/60000 [==============================] - 95s 2ms/step - loss: 72.8840 - reconstructions_loss: 39.1514 - soft_prob_loss: 1.7330 - batch_ent_loss: 0.3356\n",
      "Epoch 2/30\n",
      "60000/60000 [==============================] - 84s 1ms/step - loss: 54.5531 - reconstructions_loss: 21.5397 - soft_prob_loss: 0.2428 - batch_ent_loss: 0.3299\n",
      "Epoch 3/30\n",
      "60000/60000 [==============================] - 83s 1ms/step - loss: 50.8887 - reconstructions_loss: 18.1544 - soft_prob_loss: 0.2012 - batch_ent_loss: 0.3271\n",
      "Epoch 4/30\n",
      "60000/60000 [==============================] - 82s 1ms/step - loss: 49.1272 - reconstructions_loss: 16.5908 - soft_prob_loss: 0.1804 - batch_ent_loss: 0.3252\n",
      "Epoch 5/30\n",
      "60000/60000 [==============================] - 81s 1ms/step - loss: 48.2082 - reconstructions_loss: 15.7420 - soft_prob_loss: 0.1451 - batch_ent_loss: 0.3245\n",
      "Epoch 6/30\n",
      "60000/60000 [==============================] - 81s 1ms/step - loss: 47.6315 - reconstructions_loss: 15.1849 - soft_prob_loss: 0.1302 - batch_ent_loss: 0.3243\n",
      "Epoch 7/30\n",
      "60000/60000 [==============================] - 82s 1ms/step - loss: 47.1411 - reconstructions_loss: 14.7357 - soft_prob_loss: 0.1140 - batch_ent_loss: 0.3239\n",
      "Epoch 8/30\n",
      "60000/60000 [==============================] - 81s 1ms/step - loss: 46.7638 - reconstructions_loss: 14.3896 - soft_prob_loss: 0.1005 - batch_ent_loss: 0.3236\n",
      "Epoch 9/30\n",
      "60000/60000 [==============================] - 82s 1ms/step - loss: 46.4481 - reconstructions_loss: 14.1075 - soft_prob_loss: 0.0942 - batch_ent_loss: 0.3233\n",
      "Epoch 10/30\n",
      "60000/60000 [==============================] - 80s 1ms/step - loss: 46.1771 - reconstructions_loss: 13.8543 - soft_prob_loss: 0.0852 - batch_ent_loss: 0.3231\n",
      "Epoch 11/30\n",
      "60000/60000 [==============================] - 80s 1ms/step - loss: 45.9029 - reconstructions_loss: 13.5888 - soft_prob_loss: 0.0805 - batch_ent_loss: 0.3230\n",
      "Epoch 12/30\n",
      "60000/60000 [==============================] - 81s 1ms/step - loss: 45.6487 - reconstructions_loss: 13.3786 - soft_prob_loss: 0.0766 - batch_ent_loss: 0.3226\n",
      "Epoch 13/30\n",
      "60000/60000 [==============================] - 79s 1ms/step - loss: 45.5521 - reconstructions_loss: 13.2506 - soft_prob_loss: 0.0671 - batch_ent_loss: 0.3229\n",
      "Epoch 14/30\n",
      "60000/60000 [==============================] - 80s 1ms/step - loss: 45.3087 - reconstructions_loss: 13.0539 - soft_prob_loss: 0.0625 - batch_ent_loss: 0.3224\n",
      "Epoch 15/30\n",
      "60000/60000 [==============================] - 79s 1ms/step - loss: 45.1987 - reconstructions_loss: 12.9265 - soft_prob_loss: 0.0582 - batch_ent_loss: 0.3226\n",
      "Epoch 16/30\n",
      "60000/60000 [==============================] - 79s 1ms/step - loss: 45.0408 - reconstructions_loss: 12.7806 - soft_prob_loss: 0.0551 - batch_ent_loss: 0.3225\n",
      "Epoch 17/30\n",
      "60000/60000 [==============================] - 78s 1ms/step - loss: 45.0192 - reconstructions_loss: 12.7430 - soft_prob_loss: 0.0488 - batch_ent_loss: 0.3227\n",
      "Epoch 18/30\n",
      "60000/60000 [==============================] - 79s 1ms/step - loss: 44.8710 - reconstructions_loss: 12.5821 - soft_prob_loss: 0.0469 - batch_ent_loss: 0.3228\n",
      "Epoch 19/30\n",
      "60000/60000 [==============================] - 81s 1ms/step - loss: 44.7636 - reconstructions_loss: 12.4869 - soft_prob_loss: 0.0462 - batch_ent_loss: 0.3227\n",
      "Epoch 20/30\n",
      "60000/60000 [==============================] - 80s 1ms/step - loss: 44.6415 - reconstructions_loss: 12.3684 - soft_prob_loss: 0.0424 - batch_ent_loss: 0.3226\n",
      "Epoch 21/30\n",
      "60000/60000 [==============================] - 81s 1ms/step - loss: 44.5821 - reconstructions_loss: 12.3225 - soft_prob_loss: 0.0444 - batch_ent_loss: 0.3225\n",
      "Epoch 22/30\n",
      "60000/60000 [==============================] - 81s 1ms/step - loss: 44.4883 - reconstructions_loss: 12.2213 - soft_prob_loss: 0.0413 - batch_ent_loss: 0.3226\n",
      "Epoch 23/30\n",
      "60000/60000 [==============================] - 80s 1ms/step - loss: 44.4549 - reconstructions_loss: 12.1848 - soft_prob_loss: 0.0427 - batch_ent_loss: 0.3226\n",
      "Epoch 24/30\n",
      "60000/60000 [==============================] - 80s 1ms/step - loss: 44.3187 - reconstructions_loss: 12.0748 - soft_prob_loss: 0.0384 - batch_ent_loss: 0.3223\n",
      "Epoch 25/30\n",
      "60000/60000 [==============================] - 81s 1ms/step - loss: 44.3085 - reconstructions_loss: 12.0253 - soft_prob_loss: 0.0359 - batch_ent_loss: 0.3227\n",
      "Epoch 26/30\n",
      "60000/60000 [==============================] - 81s 1ms/step - loss: 44.1891 - reconstructions_loss: 11.9267 - soft_prob_loss: 0.0358 - batch_ent_loss: 0.3225\n",
      "Epoch 27/30\n",
      "60000/60000 [==============================] - 80s 1ms/step - loss: 44.1116 - reconstructions_loss: 11.8548 - soft_prob_loss: 0.0356 - batch_ent_loss: 0.3225\n",
      "Epoch 28/30\n",
      "60000/60000 [==============================] - 79s 1ms/step - loss: 44.0679 - reconstructions_loss: 11.8056 - soft_prob_loss: 0.0383 - batch_ent_loss: 0.3225\n",
      "Epoch 29/30\n",
      "60000/60000 [==============================] - 80s 1ms/step - loss: 43.9572 - reconstructions_loss: 11.6984 - soft_prob_loss: 0.0354 - batch_ent_loss: 0.3225\n",
      "Epoch 30/30\n",
      "60000/60000 [==============================] - 79s 1ms/step - loss: 43.8633 - reconstructions_loss: 11.5904 - soft_prob_loss: 0.0320 - batch_ent_loss: 0.3226\n"
     ]
    }
   ],
   "source": [
    "#sess = tf.InteractiveSession()\n",
    "#sess.run(tf.global_variables_initializer())\n",
    "#tf.keras.backend.set_session(sess)\n",
    "ep = 0\n",
    "n_eps = 30\n",
    "\n",
    "unsuper_hist = m.fit(\n",
    "    x_full_flat, \n",
    "    [\n",
    "    np.expand_dims(x_full_flat, 1),\n",
    "    np.zeros(n_samples),\n",
    "    np.zeros(n_samples)\n",
    "    ],\n",
    "    batch_size=50,\n",
    "    epochs=n_eps,\n",
    "    initial_epoch=ep,\n",
    "    callbacks=[\n",
    "        #entropy_callback(mix_obj.alpha, mix_obj.beta),\n",
    "        pl,\n",
    "       # earlystopping,\n",
    "    ], \n",
    ")\n",
    "ep += n_eps"
   ]
  },
  {
   "cell_type": "code",
   "execution_count": 13,
   "metadata": {},
   "outputs": [
    {
     "name": "stdout",
     "output_type": "stream",
     "text": [
      "['loss', 'reconstructions_loss', 'soft_prob_loss', 'batch_ent_loss']\n"
     ]
    },
    {
     "data": {
      "image/png": "[encoded data removed]",
      "text/plain": [
       "<Figure size 1224x432 with 5 Axes>"
      ]
     },
     "metadata": {
      "needs_background": "light"
     },
     "output_type": "display_data"
    }
   ],
   "source": [
    "perf_labels = m.metrics_names\n",
    "print(m.metrics_names)\n",
    "fig, axs = plt.subplots(ncols=len(perf_labels) + 1, figsize=(17, 6))\n",
    "for i, label in enumerate(perf_labels):\n",
    "    axs[i].plot(unsuper_hist.history[label], label=label)\n",
    "    axs[i].legend(loc=\"best\")\n",
    "\n",
    "scores = []\n",
    "for j, pred in enumerate(pl.prob_log):\n",
    "    clf_pred = pred[1].argmax(1)\n",
    "    scores.append(adjusted_rand_score(y_lab, clf_pred))\n",
    "axs[-1].plot(scores)\n",
    "plt.tight_layout()"
   ]
  },
  {
   "cell_type": "code",
   "execution_count": 25,
   "metadata": {},
   "outputs": [
    {
     "name": "stdout",
     "output_type": "stream",
     "text": [
      "(10, 1000, 784)\n",
      "(1000, 10)\n",
      "Pred array [1.0000000e+00 0.0000000e+00 0.0000000e+00 0.0000000e+00 1.0674816e-33\n",
      " 0.0000000e+00 0.0000000e+00 0.0000000e+00 0.0000000e+00 7.6171235e-31]\n",
      "Predicted 0\n",
      "0.9785993 3.219028e-29 0.068966724 0.18329316\n"
     ]
    },
    {
     "data": {
      "image/png": "[encoded data removed]",
      "text/plain": [
       "<Figure size 1080x288 with 22 Axes>"
      ]
     },
     "metadata": {
      "needs_background": "light"
     },
     "output_type": "display_data"
    }
   ],
   "source": [
    "pred = m.predict_on_batch(x_full_flat[0:1000])\n",
    "#print(pred.shape)\n",
    "w = 600\n",
    "print(pred[0].shape)\n",
    "print(pred[1].shape)\n",
    "which_pred = pred[1][w].argmax()\n",
    "fig, ax = plt.subplots(ncols=11, nrows=2, figsize=(15, 4))\n",
    "ax[0][0].imshow(x_lab_flat[w].reshape(28, 28))\n",
    "ax[0][0].axis(\"off\")\n",
    "ax[1][0].imshow(x_lab_flat[w].reshape(28, 28)-pred[0][which_pred][w].reshape((28, 28)), vmax=1, vmin=0)\n",
    "for i in range(10):  \n",
    "    ax[0][i+1].imshow(pred[0][i][w].reshape((28, 28)), vmax=2, vmin=0)\n",
    "    ax[0][i+1].axis(\"off\")\n",
    "    ax[1][i+1].imshow(pred[1][w][i]*pred[0][i][w].reshape((28, 28)), vmax=1, vmin=0)\n",
    "    ax[1][i+1].axis(\"off\")\n",
    "print(\"Pred array\", pred[1][w])\n",
    "print(\"Predicted\", which_pred)\n",
    "print(pred[0][:, w].max(), pred[0][:, w].min(), pred[0][:, w].mean(),pred[0][:, w].std())"
   ]
  },
  {
   "cell_type": "code",
   "execution_count": 15,
   "metadata": {},
   "outputs": [],
   "source": [
    "from sklearn.metrics import adjusted_rand_score, adjusted_mutual_info_score, confusion_matrix\n",
    "subsamp = 2000\n",
    "pred_all = m.predict_on_batch(x_full_flat[:subsamp])\n",
    "pred_class = pred_all[1]"
   ]
  },
  {
   "cell_type": "code",
   "execution_count": 16,
   "metadata": {},
   "outputs": [
    {
     "name": "stdout",
     "output_type": "stream",
     "text": [
      "0.5976211509290906\n",
      "[[  0 188   1   2   0   0   0   0   0   0]\n",
      " [  0   0  36   2   1   5   0 175   0   1]\n",
      " [  0   0   1   1   0  45 149   0   0   2]\n",
      " [  1   0   0   1   0 124   1   0  62   2]\n",
      " [  3   0   0   1 202   0   2   1   0   5]\n",
      " [  1   0   1  74   0  51   1   0  52   0]\n",
      " [  0   2 174   1  17   0   5   0   1   0]\n",
      " [104   0   0   0   1   1   0   4   0 114]\n",
      " [  1   0   0 154   0   1   0   0  14   2]\n",
      " [128   1   0   0  15   2   0   0   7  57]]\n"
     ]
    }
   ],
   "source": [
    "argmaxd = pred_class.argmax(1)\n",
    "print(adjusted_rand_score(y_tr[:subsamp], argmaxd))\n",
    "print(confusion_matrix(y_tr[:subsamp], argmaxd))"
   ]
  },
  {
   "cell_type": "code",
   "execution_count": 17,
   "metadata": {},
   "outputs": [
    {
     "name": "stdout",
     "output_type": "stream",
     "text": [
      "batch_ent\n",
      "0.31391257\n"
     ]
    }
   ],
   "source": [
    "sess = tf.Session()\n",
    "r = mixae_model.batch_entropy(0, pred[1])\n",
    "print(sess.run(r))\n",
    "sess.close()"
   ]
  }
 ],
 "metadata": {
  "kernelspec": {
   "display_name": "Python 3.6 (Conda)",
   "language": "python",
   "name": "python3.6"
  },
  "language_info": {
   "codemirror_mode": {
    "name": "ipython",
    "version": 3
   },
   "file_extension": ".py",
   "mimetype": "text/x-python",
   "name": "python",
   "nbconvert_exporter": "python",
   "pygments_lexer": "ipython3",
   "version": "3.6.8"
  }
 },
 "nbformat": 4,
 "nbformat_minor": 2
}
