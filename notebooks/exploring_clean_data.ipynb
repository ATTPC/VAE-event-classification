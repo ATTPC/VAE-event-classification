{
 "cells": [
  {
   "cell_type": "code",
   "execution_count": 1,
   "metadata": {},
   "outputs": [],
   "source": [
    "import h5py\n",
    "import numpy as np\n",
    "import matplotlib.pyplot as plt\n",
    "import seaborn as sns\n",
    "import statsmodels.api as sm\n",
    "\n",
    "import sys\n",
    "sys.path.append(\"../src/\")\n",
    "import data_loader as dl\n",
    "CLOCK = 12.5\n",
    "DRIFT_VEL = 5.2"
   ]
  },
  {
   "cell_type": "code",
   "execution_count": null,
   "metadata": {},
   "outputs": [],
   "source": [
    "file = h5py.File(\"../data/clean/runs/clean_run_0210.h5\", \"r\")"
   ]
  },
  {
   "cell_type": "code",
   "execution_count": null,
   "metadata": {},
   "outputs": [],
   "source": [
    "dataset = file[\"/clean\"]"
   ]
  },
  {
   "cell_type": "code",
   "execution_count": null,
   "metadata": {},
   "outputs": [],
   "source": [
    "n_events = len(dataset)\n",
    "print(n_events)"
   ]
  },
  {
   "cell_type": "code",
   "execution_count": null,
   "metadata": {},
   "outputs": [],
   "source": [
    "disc = np.load(\"../data/clean/discarded/discarded_events_0130.npy\")\n",
    "disc.shape"
   ]
  },
  {
   "cell_type": "code",
   "execution_count": null,
   "metadata": {},
   "outputs": [],
   "source": [
    "for i in dataset:\n",
    "    dataset[str(i)]"
   ]
  },
  {
   "cell_type": "code",
   "execution_count": null,
   "metadata": {},
   "outputs": [],
   "source": [
    "#xyz = dataset[\"6745\"]\n",
    "xyz = dataset[str(1567)]\n",
    "a = np.array(xyz)\n",
    "to_del = []\n",
    "\n",
    "filtered_1 = a[a[:, 6] > 100]\n",
    "filtered_2 = a[(a[:, 2]*DRIFT_VEL/CLOCK) > 1250]\n",
    "filtered_3 = a[a[:, 5] < -1e-12]\n",
    "\n",
    "fig, ax = plt.subplots(nrows=3, ncols=2, figsize=(12, 20))\n",
    "#ax.scatter(a[:,0], a[:,1])\n",
    "ax[0][0].scatter(filtered_1[:,0], filtered_1[:,1], c=\"r\", alpha=0.8)\n",
    "ax[0][1].scatter(a[:,0], a[:,1], alpha=0.8)\n",
    "ax[1][0].scatter(filtered_2[:,0], filtered_2[:,1], c=\"g\", alpha=0.4)\n",
    "ax[1][1].scatter(a[:,0], a[:,1], alpha=0.8)\n",
    "ax[2][0].scatter(filtered_3[:,0], filtered_3[:,1], c=\"brown\", alpha=0.4)\n",
    "ax[2][1].scatter(a[:,0], a[:,1], alpha=0.8)\n",
    "\n",
    "for a_ in ax:\n",
    "    for i in a_:\n",
    "        i.set_ylim((-275, 275)) \n",
    "        i.set_xlim((-275, 275))"
   ]
  },
  {
   "cell_type": "code",
   "execution_count": null,
   "metadata": {},
   "outputs": [],
   "source": [
    "len(filtered_3)"
   ]
  },
  {
   "cell_type": "code",
   "execution_count": null,
   "metadata": {},
   "outputs": [],
   "source": [
    "plt.scatter(filtered_3[:,0], filtered_3[:,1])\n",
    "plt.ylim((-275, 275)) \n",
    "plt.xlim((-275, 275))"
   ]
  },
  {
   "cell_type": "code",
   "execution_count": null,
   "metadata": {},
   "outputs": [],
   "source": [
    "import pandas as pd\n",
    "labels_run = pd.read_csv(\"../labels/run_0130_labels.csv\")\n",
    "index_labels = labels_run[\"evt_id\"].values.astype(str)"
   ]
  },
  {
   "cell_type": "code",
   "execution_count": null,
   "metadata": {},
   "outputs": [],
   "source": [
    "labels_run.head()"
   ]
  },
  {
   "cell_type": "code",
   "execution_count": null,
   "metadata": {},
   "outputs": [],
   "source": [
    "from joblib import Parallel, delayed \n",
    "\n",
    "an_array = np.zeros(400)\n",
    "\n",
    "def func(i):\n",
    "    print(\"what?\")\n",
    "    an_array[i] = 45\n",
    "    \n",
    "_ = Parallel(n_jobs=4)(delayed(func)(i) for i in range(len(an_array)))"
   ]
  },
  {
   "cell_type": "code",
   "execution_count": 5,
   "metadata": {},
   "outputs": [],
   "source": [
    "data = \"real\"\n",
    "#og = np.load(\"../data/{}/images/run_0210_label_True_size_128.npy\".format(data))\n",
    "#og_y = np.load(\"../data/{}/targets/run_0210_targets_size_128.npy\".format(data))\n",
    "_, og, og_y = dl.load_simulated(\"128\")\n",
    "og_y = og_y if len(og_y.shape) == 1 else og_y.argmax(1)\n",
    "#vgg = np.load(\"../data/clean/vgg_images/run_0210_label_False_size_128.npy\")"
   ]
  },
  {
   "cell_type": "code",
   "execution_count": 20,
   "metadata": {},
   "outputs": [
    {
     "name": "stdout",
     "output_type": "stream",
     "text": [
      "(2400, 16384)\n",
      "Class :  0\n",
      "Class :  1\n"
     ]
    },
    {
     "data": {
      "image/png": "[encoded data removed]",
      "text/plain": [
       "<Figure size 1008x576 with 2 Axes>"
      ]
     },
     "metadata": {
      "needs_background": "light"
     },
     "output_type": "display_data"
    }
   ],
   "source": [
    "fig, ax = plt.subplots(ncols=len(np.unique(og_y)), figsize=(14, 8))\n",
    "og_flat = og.reshape((og.shape[0], -1))\n",
    "print(og_flat.shape)\n",
    "\n",
    "for c in np.unique(og_y):\n",
    "    print(\"Class : \", c)\n",
    "    w = og_y == c\n",
    "    signal_x = og_flat[w, :].ravel()\n",
    "    min_v = 2.9e-1\n",
    "    signal_x = signal_x[signal_x > min_v]\n",
    "    \n",
    "    sns.distplot(signal_x, ax=ax[c], kde=False, bins=100)\n",
    "    ax[c].set_ylim((0, 4000))\n",
    "    ax[c].set_xlim((min_v, 1))"
   ]
  },
  {
   "cell_type": "code",
   "execution_count": 20,
   "metadata": {},
   "outputs": [],
   "source": [
    "hist = np.load(\"../data/real/q_histograms/run_0210_label_True_size_128.npy\")\n",
    "net_charge = np.load(\"../data/real/net_charge/run_0210_label_True_size_128.npy\")\n",
    "targ = np.load(\"../data/real/targets/run_0210_targets_size_128.npy\")\n",
    "#hist = hist*net_charge.reshape((-1, 1))"
   ]
  },
  {
   "cell_type": "code",
   "execution_count": 4,
   "metadata": {},
   "outputs": [
    {
     "data": {
      "text/plain": [
       "(1774,)"
      ]
     },
     "execution_count": 4,
     "metadata": {},
     "output_type": "execute_result"
    }
   ],
   "source": [
    "net_charge.shape"
   ]
  },
  {
   "cell_type": "code",
   "execution_count": 56,
   "metadata": {},
   "outputs": [
    {
     "data": {
      "text/plain": [
       "(1774, 40)"
      ]
     },
     "execution_count": 56,
     "metadata": {},
     "output_type": "execute_result"
    }
   ],
   "source": [
    "hist.shape"
   ]
  },
  {
   "cell_type": "code",
   "execution_count": 13,
   "metadata": {},
   "outputs": [
    {
     "data": {
      "text/plain": [
       "0.05897154513896632"
      ]
     },
     "execution_count": 13,
     "metadata": {},
     "output_type": "execute_result"
    }
   ],
   "source": [
    "net_charge.min()"
   ]
  },
  {
   "cell_type": "code",
   "execution_count": 24,
   "metadata": {},
   "outputs": [
    {
     "data": {
      "image/png": "[encoded data removed]",
      "text/plain": [
       "<Figure size 864x720 with 3 Axes>"
      ]
     },
     "metadata": {
      "needs_background": "light"
     },
     "output_type": "display_data"
    }
   ],
   "source": [
    "x = np.linspace(0.6, 1, 40)\n",
    "#print(sum(hist[w]))\n",
    "fig, ax = plt.subplots(ncols=len(np.unique(targ)), figsize=(12, 10))\n",
    "\n",
    "for c in np.unique(targ):\n",
    "    all_c = targ == c\n",
    "    evt_c = hist[all_c]\n",
    "    mean_c = evt_c.mean(0)\n",
    "    std_c = evt_c.std(0)\n",
    "    #print(mean_c.shape, std_c.shape, x.shape, evt_c.shape)\n",
    "    \n",
    "    ax[c].errorbar(x, mean_c, yerr=std_c, fmt= \".\", label=c)\n",
    "    #ax[c].set_ylim((0, 0.1))\n",
    "\n",
    "    ax[c].legend()"
   ]
  },
  {
   "cell_type": "code",
   "execution_count": 33,
   "metadata": {},
   "outputs": [
    {
     "name": "stdout",
     "output_type": "stream",
     "text": [
      "[0.74251497 0.74698795 0.77409639 0.7439759 ]\n"
     ]
    }
   ],
   "source": [
    "from sklearn.linear_model import LogisticRegression\n",
    "from sklearn.model_selection import train_test_split, cross_val_score\n",
    "from sklearn.metrics import f1_score\n",
    "\n",
    "xtr, xte, ytr, yte = train_test_split(hist, targ)\n",
    "lr = LogisticRegression(multi_class=\"multinomial\", class_weight=\"balanced\", solver=\"newton-cg\", penalty=\"l2\")\n",
    "s = cross_val_score(lr, xtr, ytr, cv=4)\n",
    "lr.fit(xtr, ytr)\n",
    "print(s)"
   ]
  },
  {
   "cell_type": "code",
   "execution_count": 34,
   "metadata": {},
   "outputs": [
    {
     "data": {
      "text/plain": [
       "array([0.71111111, 0.61417323, 0.83208955])"
      ]
     },
     "execution_count": 34,
     "metadata": {},
     "output_type": "execute_result"
    }
   ],
   "source": [
    "f1_score(yte, lr.predict(xte), average=None)"
   ]
  },
  {
   "cell_type": "code",
   "execution_count": null,
   "metadata": {},
   "outputs": [],
   "source": [
    "sim = np.load(\"../data/simulated/images/pr_train_simulated.npy\")"
   ]
  },
  {
   "cell_type": "code",
   "execution_count": null,
   "metadata": {},
   "outputs": [],
   "source": [
    "plt.imshow(np.squeeze(targets[w6]))"
   ]
  },
  {
   "cell_type": "code",
   "execution_count": null,
   "metadata": {},
   "outputs": [],
   "source": [
    "print(targets.shape)\n",
    "print(vgg.shape)"
   ]
  },
  {
   "cell_type": "code",
   "execution_count": null,
   "metadata": {},
   "outputs": [],
   "source": [
    "evt_type = \"real\"\n",
    "evts = np.load(\"../data/\"+evt_type+\"/images/run_0210_label_True_size_80.npy\")\n",
    "targets = np.load(\"../data/\"+evt_type+\"/targets/run_0210_targets_size_80.npy\")\n",
    "labelled_disc = np.load(\"../data/\"+evt_type+\"/discarded/discarded_events_0210_label_True.npy\")\n",
    "print(\"n labelled: \", targets.size)\n",
    "print(\"discarded labelled: \", labelled_disc.size)"
   ]
  },
  {
   "cell_type": "code",
   "execution_count": null,
   "metadata": {},
   "outputs": [],
   "source": [
    "ev_id = \n",
    "plt.imshow(evts[ev_id].reshape((49, 49)))\n",
    "print(\"event TYPE: \",targets[ev_id])\n",
    "#plt.gca().axis(\"off\")"
   ]
  },
  {
   "cell_type": "code",
   "execution_count": null,
   "metadata": {},
   "outputs": [],
   "source": [
    "class_type = evts[targets==2]\n",
    "print(\"mean \", class_type[class_type>0].mean())\n",
    "print(\"std \", class_type[class_type>0].std())"
   ]
  },
  {
   "cell_type": "code",
   "execution_count": null,
   "metadata": {},
   "outputs": [],
   "source": [
    "plt.bar(np.arange(3), np.bincount(targets),)"
   ]
  },
  {
   "cell_type": "code",
   "execution_count": null,
   "metadata": {},
   "outputs": [],
   "source": [
    "np.bincount(targets)"
   ]
  },
  {
   "cell_type": "code",
   "execution_count": null,
   "metadata": {},
   "outputs": [],
   "source": [
    "np.load(\"../data/clean/targets/train_targets_size_50.npy\").shape"
   ]
  }
 ],
 "metadata": {
  "kernelspec": {
   "display_name": "Python 3.6 (Conda)",
   "language": "python",
   "name": "python3.6"
  },
  "language_info": {
   "codemirror_mode": {
    "name": "ipython",
    "version": 3
   },
   "file_extension": ".py",
   "mimetype": "text/x-python",
   "name": "python",
   "nbconvert_exporter": "python",
   "pygments_lexer": "ipython3",
   "version": "3.6.8"
  }
 },
 "nbformat": 4,
 "nbformat_minor": 2
}
